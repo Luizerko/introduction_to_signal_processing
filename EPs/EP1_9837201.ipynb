{
 "cells": [
  {
   "cell_type": "markdown",
   "metadata": {},
   "source": [
    "## Atividade Prática 1: Amostragem e rebatimento\n",
    "\n",
    "### Nome: Luis Vitor Zerkowski\n",
    "\n",
    "### N⁰ USP: 9837201\n",
    "\n",
    "Nessa tarefa exploraremos a amostragem de sinais e imagens sintetizados a partir de funções senoidais, e o efeito de rebatimento resultante da relação entre a taxa de amostragem e a frequência do sinal."
   ]
  },
  {
   "cell_type": "markdown",
   "metadata": {},
   "source": [
    "#### Dependências dessa tarefa"
   ]
  },
  {
   "cell_type": "code",
   "execution_count": null,
   "metadata": {},
   "outputs": [],
   "source": [
    "import math as m\n",
    "import numpy as np\n",
    "import matplotlib.pyplot as plt\n",
    "from IPython.display import Audio"
   ]
  },
  {
   "cell_type": "markdown",
   "metadata": {},
   "source": [
    "#### Exercício 1:\n",
    "\n",
    "(a) construa um sinal de 1 seg de duração com frequência f = 2000 Hz e taxa de amostragem R = 40000 Hz:\n",
    "\n",
    "$$x(t) = \\sin(2\\pi f t)\\quad\\quad t=0,\\frac{1}{R},\\frac{2}{R},\\ldots,1-\\frac{1}{R}$$\n",
    "\n",
    "(b) Plote um trecho do sinal correspondente a 4 períodos completos (ou seja, quando $2\\pi ft=4\\cdot 2\\pi$).\n",
    "\n",
    "(c) Adicione um widget para reproduzir o sinal (já resolvido).\n",
    "\n",
    "**CUIDADO** com o volume ao ouvir o sinal (comece com o volume no mínimo e aumente até um nível confortável para os seus fones de ouvido)."
   ]
  },
  {
   "cell_type": "code",
   "execution_count": null,
   "metadata": {},
   "outputs": [],
   "source": [
    "# Exercício 1(a)\n",
    "# Dicas: não use laços! Use np.arange(0,1,1/R) para construir um vetor t\n",
    "# e passe para a função np.sin uma expressão usando o vetor t\n",
    "\n",
    "R1 = 40000\n",
    "f = 2000\n",
    "t1 = np.arange(0, 1, 1/R1)\n",
    "x1 = np.sin(2 * m.pi * f * t1)"
   ]
  },
  {
   "cell_type": "code",
   "execution_count": null,
   "metadata": {},
   "outputs": [],
   "source": [
    "t_f = 4/f\n",
    "indice = int(t_f*R1)\n",
    "print('Tempo correspondente a 4 períodos: {}s'.format(t_f))\n",
    "print('Índice correspondente a 4 períodos: {}, {}s'.format(indice, t1[indice]))"
   ]
  },
  {
   "cell_type": "code",
   "execution_count": null,
   "metadata": {},
   "outputs": [],
   "source": [
    "# Exercício 1(b)\n",
    "# Dica: use plt.plot(tempo,sinal)\n",
    "\n",
    "plt.figure(figsize=(15,5))\n",
    "plt.plot(t1[:indice+1], x1[:indice+1])"
   ]
  },
  {
   "cell_type": "code",
   "execution_count": null,
   "metadata": {
    "scrolled": true
   },
   "outputs": [],
   "source": [
    "# Exercício 1(c) resolvido\n",
    "display(Audio(x1, rate=R1, normalize=False))"
   ]
  },
  {
   "cell_type": "markdown",
   "metadata": {},
   "source": [
    "#### Exercício 2:\n",
    "\n",
    "Repita a construção do exercício 1 com a mesma frequência f = 2000 Hz e taxas de amostragem R = 8000 Hz, depois R = 4000 Hz e finalmente R = 3000 Hz. Comente na célula após o código as diferenças visuais e auditivas observadas, se houver."
   ]
  },
  {
   "cell_type": "code",
   "execution_count": null,
   "metadata": {},
   "outputs": [],
   "source": [
    "# Exercício 2\n",
    "# Dica: para separar os gráficos, divida a célula (Edit→Split Cell)\n",
    "#       ou então use plt.figure() antes de cada plt.plot()\n",
    "\n",
    "R = [8000, 4000, 3000]\n",
    "f = 2000\n",
    "t = []\n",
    "x = []\n",
    "for count,r in enumerate(R):\n",
    "    t.append(np.arange(0, 1, 1/r))\n",
    "    x.append(np.sin(2 * m.pi * f * t[count]))"
   ]
  },
  {
   "cell_type": "code",
   "execution_count": null,
   "metadata": {},
   "outputs": [],
   "source": [
    "t_f = 4/f\n",
    "indices = []\n",
    "for r in R:\n",
    "    indices.append(int(t_f*r))\n",
    "print('Tempo correspondente a 4 períodos: {}s'.format(t_f))\n",
    "print('Índices correspondentes a 4 períodos: {}, {}, {}'.format(indices[0], indices[1], indices[2]))"
   ]
  },
  {
   "cell_type": "code",
   "execution_count": null,
   "metadata": {},
   "outputs": [],
   "source": [
    "for i, j, k in zip(t, x, indices):\n",
    "    plt.figure(figsize=(15,5))\n",
    "    plt.plot(i[:k+1], j[:k+1])"
   ]
  },
  {
   "cell_type": "code",
   "execution_count": null,
   "metadata": {},
   "outputs": [],
   "source": [
    "for r, j in zip(R, x):\n",
    "    display(Audio(j, rate=r, normalize=False))"
   ]
  },
  {
   "cell_type": "markdown",
   "metadata": {
    "scrolled": true
   },
   "source": [
    "#### Inclua aqui os comentários referentes ao exercício 2"
   ]
  },
  {
   "cell_type": "markdown",
   "metadata": {
    "scrolled": true
   },
   "source": [
    "Nesse exercício, percebemos o efeito do rebatimento. A primeira taxa de amostragem (R = 8000Hz) consegue capturar o sinal original perfeitamente. É possível reparar esse efeito visualmente contando os devidos 4 ciclos amostrados no primeiro gráfico. Quando passamos para as próximas frequências, no entanto, temos problemas na captura e reconstrução do sinal. Para a frequência de amostragem R = 3000Hz, temos a impressão que o sinal tem metade de sua frequência real. Esse fenômeno pode ser facilmente observado através do gráfico, o qual mostra o sinal, que deveria ter 4 ciclos, com apenas 2 ciclos. Além disso, é possível verificar sensorialmente o problema, uma vez que o áudio gerado para essa taxa de amostragem é claramente menos agudo - indicativo de menor frequência. Por fim, para a frequência de amostragem R = 4000Hz, temos um outro problema. Intuitivamente, estamos amostrando o sinal sempre que ele passa pelo valor 0, nos limites de um período do sinal original e no meio do período também. O gráfico para esse plot deixa isso claro, uma vez que os valores exibidos no gráfico são residuos numéricos, todos menores do que 1e-15. Para além disso, é possível perceber que o som gerado pelo menos é inaudível, o que sensorialmente representa o fenômeno.\n",
    "\n",
    "Os gráficos do exercício 3 deixam ainda mais claros os efeitos aqui descritos."
   ]
  },
  {
   "cell_type": "markdown",
   "metadata": {},
   "source": [
    "#### Exercício 3:\n",
    "\n",
    "(a) Construa um gráfico sobrepondo as formas de onda com R = 40000 Hz e R = 4000 Hz, e um segundo gráfico sobrepondo as formas de onda com R = 40000 Hz e R = 3000 Hz.\n",
    "\n",
    "(b) Estime a frequência aparente dos sinais produzidos com R = 4000 Hz e R = 3000 Hz a partir dos gráficos do item (a)."
   ]
  },
  {
   "cell_type": "code",
   "execution_count": null,
   "metadata": {
    "scrolled": true
   },
   "outputs": [],
   "source": [
    "# Exercício 3(a)\n",
    "# Dica: para sobrepor os gráficos basta fazer chamadas consecutivas da função plt.plot()\n",
    "#       dentro de uma mesma célula (ou após um mesmo plt.figure())\n",
    "\n",
    "for i, j, k in zip(t[1:], x[1:], indices[1:]):\n",
    "    plt.figure(figsize=(15,5))\n",
    "    plt.plot(i[:k+1], j[:k+1])\n",
    "    plt.plot(t1[:indice+1], x1[:indice+1])"
   ]
  },
  {
   "cell_type": "markdown",
   "metadata": {},
   "source": [
    "#### Inclua aqui os comentários referentes ao exercício 3(b)"
   ]
  },
  {
   "cell_type": "markdown",
   "metadata": {},
   "source": [
    "Como evidenciado nos gráficos do exercício 3a, as frequências aparentes dos sinais são:\n",
    "\n",
    "f_1 = 0Hz para R = 4000Hz, visto com o plot azul constante e igual a zero do primeiro gráfico;\n",
    "\n",
    "f_2 = -1000Hz para R = 3000Hz, visto no segundo gráfico com o plot azul de apenas dois ciclos quando deveria ter quatro ciclos e caminhando no sentido oposto do sinal orignal por ser negativo;"
   ]
  },
  {
   "cell_type": "markdown",
   "metadata": {},
   "source": [
    "#### Exercício 4:\n",
    "\n",
    "Calcule as frequências equivalentes $f$ na faixa $-\\frac{R}{2}<f\\le \\frac{R}{2}$ que correspondem exatamente aos sinais digitais gerados no exercício 2 com R = 4000 Hz e R = 3000 Hz, a partir da condição de rebatimento associada às frequências equivalentes da forma $f\\pm kR$ com $k\\in\\mathbb{Z}$. Há alguma diferença importante entre os exemplos com R = 4000 Hz e R = 3000 Hz? Explique."
   ]
  },
  {
   "cell_type": "markdown",
   "metadata": {
    "scrolled": true
   },
   "source": [
    "#### Inclua aqui as contas e comentários referentes ao exercício 4"
   ]
  },
  {
   "cell_type": "markdown",
   "metadata": {
    "scrolled": true
   },
   "source": [
    "As frequência equivalentes são:\n",
    "\n",
    "f_1 = f - R = 2000 - 4000 = -2000Hz para R = 4000Hz;\n",
    "\n",
    "e f_2 = f - R = 2000 - 3000 = -1000Hz para R = 3000Hz. \n",
    "\n",
    "A grande diferença entre as faixas de amostragem está no limite de representação de frequências das mesmas. Para R = 4000Hz, amostramos o sinal fora do intervalo ]-2000, 2000], mas em seu limite, sempre quando o sinal real passa pelo valor 0, seja ele nos limites do período ou em meio período. Já para R = 3000Hz, a frequência real (2000Hz) está fora do intervalo de frequências perfeitamente amostradas ]-1500Hz, 1500Hz], então, diferente do problema anterior, não amostramos sempre no 0 do sinal, mas amostramos um sinal que parece ter frequência -1000Hz."
   ]
  },
  {
   "cell_type": "markdown",
   "metadata": {},
   "source": [
    "#### Exercício 5:\n",
    "\n",
    "Considere a função\n",
    "\n",
    "$$f(x,y)=\\sin(2\\pi(50x+70y))$$\n",
    "\n",
    "definida no retângulo $(x,y)\\in[0,1]\\times[0,1]$. O código abaixo contrói as imagens correspondentes a essa função, usando taxas de amostragem iguais nas duas variáveis com os valores $R=50,60,70,80,700$ (ciclos por unidade espacial).\n",
    "\n",
    "Justifique na célula após o código os padrões observados em função das frequências aparentes/equivalentes $f_x,f_y\\in\\left(-\\frac{R}{2},\\frac{R}{2}\\right]$. Considere que as frequências nominais $g_x=50$ e $g_y=70$ correspondem às flutuações horizontais e verticais, respectivamente."
   ]
  },
  {
   "cell_type": "code",
   "execution_count": null,
   "metadata": {},
   "outputs": [],
   "source": [
    "R=[50,60,70,80,700]\n",
    "for j in range(len(R)):\n",
    "    x = np.arange(0,1,1/R[j])\n",
    "    y = np.arange(0,1,1/R[j])\n",
    "    # np.meshgrid(x,y) retorna duas matrizes X e Y\n",
    "    # onde cada linha de X contém uma cópia do vetor x\n",
    "    # e cada coluna de Y uma cópia do vetor y.\n",
    "    X, Y = np.meshgrid(x,y,indexing='xy')\n",
    "    f = np.sin(2 * m.pi * (50*X + 70*Y))\n",
    "    plt.figure(figsize=(10,10))\n",
    "    plt.imshow(f, interpolation=\"none\", cmap='gray', vmin=-1, vmax=+1)\n",
    "    plt.title(r'R={}'.format(R[j]))\n",
    "    plt.axis('off')"
   ]
  },
  {
   "cell_type": "markdown",
   "metadata": {
    "scrolled": true
   },
   "source": [
    "#### Inclua aqui as contas e comentários referentes ao exercício 5:"
   ]
  },
  {
   "cell_type": "markdown",
   "metadata": {
    "scrolled": true
   },
   "source": [
    "Para R = 50Hz, temos uma frequência aparente de f - R = 50 - 50 = 0Hz no eixo horizontal, facilmente verificável pelas linhas horizontais da imagem que indicam nenhuma variação de f(x, y) quando variamos x. Já no eixo vertical, temos uma frequência aparente de f - R = 70 - 50 = 20Hz, também verificável na imagem, mas agora pela variação dos valores de f(x,y) quando da variação do valor de y. Vale a pena destacar, ainda, que entre valores iguais na imagem - faixas horizontais de mesma cor - captamos duas oscilações do sinal, perceptível pela representação de valores intermediários que \"sobem e descem\" entre duas faixas de mesma cor. Por isso, quando contamos as faixas de mesma cor da imagem, encontramos 10 dessas, mas como estamos tratando de 2 oscilações por cada faixa, temos na verdade a frequência aparente de 20Hz, exatamente como calculamos.\n",
    "\n",
    "Para R = 70Hz, temos um fenômeno parecido com o anterior, mas com troca entre os eixos horizontais e verticais. A frequência aparente no eixo horizontal é f - R = 50 - 70 = -20Hz e, no eixo vertical é f - R = 70 - 70 = 0Hz. Novamente, o fenômeno visual que ocorre para esta imagem é bem parecido com o de R = 50Hz, mas com colunas verticais iguais e variação nas linhas horizontais.\n",
    "\n",
    "Para R = 60Hz, temos uma frequência aparente de f - R = 50 - 60 = -10Hz no eixo horizontal e f - R = 70 - 60 = 10Hz no eixo vertical. Justamente por termos frequências de mesmo valor absoluto, percebemos listras diagonais na imagem.\n",
    "\n",
    "Para R = 80HZ, temos uma frequência aparente de f - R = 50 - 80 = -30Hz no eixo horizontal e f - R = 70 - 80 = -10Hz no eixo vertical.\n",
    "\n",
    "Para R = 700Hz, temos a frequência do sinal no eixo horizontal devidamente capturada, uma vez que 50Hz está no intervalo ]350, 350]. Na pate vertical do sinal, temos o mesmo efeito, portanto a frequência de 70Hz no eixo vertical também é devidamente capturada. A última imagem, dessa forma, ilustra o sinal perfeitamente."
   ]
  }
 ],
 "metadata": {
  "kernelspec": {
   "display_name": "Python 3 (ipykernel)",
   "language": "python",
   "name": "python3"
  },
  "language_info": {
   "codemirror_mode": {
    "name": "ipython",
    "version": 3
   },
   "file_extension": ".py",
   "mimetype": "text/x-python",
   "name": "python",
   "nbconvert_exporter": "python",
   "pygments_lexer": "ipython3",
   "version": "3.7.13"
  }
 },
 "nbformat": 4,
 "nbformat_minor": 2
}
