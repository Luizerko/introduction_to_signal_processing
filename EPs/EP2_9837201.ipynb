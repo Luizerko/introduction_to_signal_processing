{
 "cells": [
  {
   "cell_type": "markdown",
   "metadata": {
    "slideshow": {
     "slide_type": "slide"
    }
   },
   "source": [
    "## Tarefa Prática 2: Representações em Espaços Vetoriais\n",
    "\n",
    "### Nome: Luis Vitor Zerkowski\n",
    "\n",
    "### N⁰ USP: 9837201\n",
    "\n",
    "Nessa tarefa exploraremos as transformações resultantes de mudar a base de representação de vetores em um espaço vetorial. "
   ]
  },
  {
   "cell_type": "markdown",
   "metadata": {
    "slideshow": {
     "slide_type": "slide"
    }
   },
   "source": [
    "### Revisão do conceito de base\n",
    "\n",
    "Uma *base* de um espaço vetorial $V$ é um conjunto $S$ em $V$ que tem as duas propriedades a seguir:\n",
    "\n",
    "- $S$ é um *conjunto gerador* para $V$, ou seja, $S$ permite representar qualquer $x\\in V$ através de uma equação\n",
    "$$x=\\sum_{i=0}^{K-1}a_iv_i$$\n",
    "onde $a_i$ são escalares e $v_i\\in S,\\ \\forall i$."
   ]
  },
  {
   "cell_type": "markdown",
   "metadata": {
    "slideshow": {
     "slide_type": "subslide"
    }
   },
   "source": [
    "- $S$ é *linearmente independente*, ou seja, não existem vetores em $S$ \"redundantes\"; em matematiquês isso equivale a dizer que qualquer sistema da forma\n",
    "$$\\sum_{i=0}^{K-1}a_iv_i=0$$\n",
    "com $v_i\\in S$ só admite a solução trivial $a_i=0,\\ \\forall i$.\n",
    "\n",
    "Se $S$ é uma base finita para $V$, o tamanho $N=|S|$ de $S$ é denominado **dimensão** de $V$ (e é possível provar que qualquer outra base de $V$ também possui exatamente $N$ elementos)."
   ]
  },
  {
   "cell_type": "markdown",
   "metadata": {
    "slideshow": {
     "slide_type": "subslide"
    }
   },
   "source": [
    "__Exemplo:__ a base canônica de $\\mathbb{R}^N$ ou $\\mathbb{C}^N$ é formada pelos vetores $e_i=\\left(0,\\ldots,0,\\overbrace{1}^{i},0,\\ldots,0\\right)$, que são geradores desses espaços (por construção), e linearmente independentes, pois $\\displaystyle\\sum_{i=0}^{K-1}a_ie_i=(a_0,a_1,\\ldots,a_{N-1})=(0,0,\\ldots,0)$ implica imediatamente $a_i=0,\\ \\forall i$.\n",
    "\n",
    "Uma propriedade importante dessa base é que ela é *ortogonal*, ou seja, que $(e_i,e_j)=\\sum_{k=0}^{N-1}(e_i)_k(e_j)_k=0,\\ \\forall i\\neq j$."
   ]
  },
  {
   "cell_type": "markdown",
   "metadata": {
    "slideshow": {
     "slide_type": "slide"
    }
   },
   "source": [
    "### Bases e ortogonalidade\n",
    "\n",
    "Em um espaço $N$ dimensional, qualquer conjunto ortogonal de $N$ vetores não-nulos é necessariamente uma base. Isso decorre do fato de que se $S=\\{v_0,v_1,\\ldots,v_{N-1}\\}$ com $v_i\\neq 0,\\ \\forall i$ e $(v_i,v_j)=0,\\ \\forall v_i,v_j\\in S,\\ i\\neq j$, então o sistema\n",
    "$\\displaystyle\\sum_{i=0}^{K-1}a_iv_i=0$ pode ser resolvido fazendo produtos internos com cada $v_j$:\n",
    "$$\\displaystyle\\left(\\sum_{i=0}^{K-1}a_iv_i,v_j\\right) = \\sum_{i=0}^{K-1}a_i(v_i,v_j) = a_j(v_j,v_j) = 0,$$\n",
    "onde o somatório desaparece porque $(v_i,v_j)=0$ para todo $i\\neq j$, e como $(v_j,v_j)=\\|v_j\\|^2\\neq 0$ segue que $a_j=0$ (esse argumento vale $\\forall j$)."
   ]
  },
  {
   "cell_type": "markdown",
   "metadata": {
    "slideshow": {
     "slide_type": "slide"
    }
   },
   "source": [
    "### Mudanças de base\n",
    "\n",
    "Se $S$ é uma base qualquer para $V$, temos uma garantia de que é possível representar qualquer $x\\in V$ como $x=\\displaystyle\\sum_{i=0}^{K-1}a_iv_i$ (Eq. I). Uma pergunta razoável é: \"como encontrar os $a_i$'s?\"."
   ]
  },
  {
   "cell_type": "markdown",
   "metadata": {
    "slideshow": {
     "slide_type": "subslide"
    }
   },
   "source": [
    "Uma solução muito simples existe quando $S$ é uma base ortogonal: nesse caso, podemos proceder outra vez por eliminação, fazendo  produtos internos da Eq. I com cada $v_j$:\n",
    "$$(x,v_j) = \\left(\\sum_{i=0}^{K-1}a_iv_i,v_j\\right) = \\sum_{i=0}^{K-1}a_i(v_i,v_j) = a_j(v_j,v_j),$$\n",
    "de onde segue que\n",
    "$$a_j=\\frac{(x,v_j)}{(v_j,v_j)}$$\n",
    "(observe que como $S$ é base, $0\\not\\in S$ e portanto $(v_j,v_j)=\\|v_j\\|^2\\neq 0,\\ \\forall v_j\\in S$)."
   ]
  },
  {
   "cell_type": "markdown",
   "metadata": {
    "slideshow": {
     "slide_type": "slide"
    }
   },
   "source": [
    "#### Dependências dessa tarefa"
   ]
  },
  {
   "cell_type": "code",
   "execution_count": null,
   "metadata": {
    "slideshow": {
     "slide_type": "fragment"
    }
   },
   "outputs": [],
   "source": [
    "import math as m\n",
    "import numpy as np"
   ]
  },
  {
   "cell_type": "markdown",
   "metadata": {
    "slideshow": {
     "slide_type": "slide"
    }
   },
   "source": [
    "#### Exercício 1: Considere o conjunto $S=\\{v_1,v_2,v_3\\}\\subset\\mathbb{R}^3$ com $v_1=(1,1,0)$, $v_2=(-1,1,1)$ e $v_3=(1,-1,2)$.\n",
    "\n",
    "(a) Escreva um código que verifique que $S$ é ortogonal com respeito ao produto interno canônico $\\displaystyle(x,y)=\\sum_{i=0}^2x_iy_i$. Como $|S|=3$, isso mostrará que $S$ é uma base para $\\mathbb{R}^3$."
   ]
  },
  {
   "cell_type": "code",
   "execution_count": null,
   "metadata": {
    "slideshow": {
     "slide_type": "fragment"
    }
   },
   "outputs": [],
   "source": [
    "# Exercício 1(a)\n",
    "# Dicas: use sempre arrays do numpy com valores float,\n",
    "# por exemplo v = np.array([[1.,0.],[0.,1.]]) ou v = np.array([[1,0],[0,1]],dtype=float);\n",
    "# use a função np.inner(x,y) para computar (x,y),\n",
    "# e o comando \"assert np.linalg.norm(z)<1e-12\" para checar se ||z||=0.\n",
    "v = np.array([[1, 1, 0], [-1, 1, 1], [1, -1, 2]], dtype='float')\n",
    "for i in range(len(v)-1):\n",
    "    for j in range(i+1, len(v)):\n",
    "        produto_interno = np.inner(v[i], v[j])\n",
    "        assert np.linalg.norm(produto_interno) < 1e-12\n",
    "        print('Produto interno entre vetores {} e {}: {}'.format(i+1, j+1, produto_interno))"
   ]
  },
  {
   "cell_type": "markdown",
   "metadata": {
    "slideshow": {
     "slide_type": "subslide"
    }
   },
   "source": [
    "(b) Escreva um código que compute (e imprima$^*$) os coeficientes $a_1,a_2,a_3$ da representação de $x=(3,4,5)$ em relação à base $S$, e que verifique que a expressão $\\displaystyle x=\\sum_{k=1}^3a_kv_k=a_1v_1+a_2v_2+a_3v_3$ de fato é satisfeita.\n",
    "\n",
    "$^*$ em todas as questões espera-se que seu código imprima os vetores e coeficientes computados."
   ]
  },
  {
   "cell_type": "code",
   "execution_count": null,
   "metadata": {
    "slideshow": {
     "slide_type": "fragment"
    }
   },
   "outputs": [],
   "source": [
    "# Exercício 1(b)\n",
    "\n",
    "#Computando coeficientes a\n",
    "x = np.array([3, 4, 5], dtype='float')\n",
    "a = []\n",
    "for i in range(len(v)):\n",
    "    a.append(np.inner(x, v[i])/np.inner(v[i], v[i]))\n",
    "a = np.array(a, dtype='float')\n",
    "print('Vetor de coefiecientes: {}\\n'.format(a))\n",
    "\n",
    "#Checando a representação de x na base utilizada\n",
    "volta_x = 0\n",
    "for i in range(len(v)):\n",
    "    volta_x += a[i]*v[i]\n",
    "print('Vetor x computado na base utilizada e com os coeficientes calculados: {}'.format(volta_x))"
   ]
  },
  {
   "cell_type": "markdown",
   "metadata": {
    "slideshow": {
     "slide_type": "subslide"
    }
   },
   "source": [
    "(c) Escreva um código que compute os vetores *normalizados* $S'=\\{v'_1,v'_2,v'_3\\}$ onde $v'_i=\\frac{v_i}{\\|v_i\\|}$, e depois compute os coeficientes $a'_1,a'_2,a'_3$ da representação de $x=(3,4,5)$ em relação à base $S'$, verificando que a expressão $x=a'_1v'_1+a'_2v'_2+a'_3v'_3$ de fato é satisfeita.\n",
    "\n",
    "(Obs: uma base ortogonal e normalizada é chamada de *base ortonormal*)."
   ]
  },
  {
   "cell_type": "code",
   "execution_count": null,
   "metadata": {
    "scrolled": true,
    "slideshow": {
     "slide_type": "fragment"
    }
   },
   "outputs": [],
   "source": [
    "# Exercício 1(c)\n",
    "\n",
    "#Computando vetores normalizados\n",
    "v_norm = []\n",
    "for i in range(len(v)):\n",
    "    v_norm.append(v[i]/np.linalg.norm(v[i]))\n",
    "v_norm = np.array(v_norm, dtype='float')\n",
    "\n",
    "#Verificando normalidade dos vetore computados\n",
    "for i in range(len(v_norm)):\n",
    "    assert np.linalg.norm(v_norm[i]) < 1+1e-12\n",
    "    assert np.linalg.norm(v_norm[i]) > 1-1e-12\n",
    "    print('Norma do novo vetor {}: {}'.format(i+1, np.linalg.norm(v_norm[i])))\n",
    "    \n",
    "#Computando novos coeficientes a utilizando o fato de que a (v_norm[i], v_norm[i]) = 1\n",
    "a_norm = []\n",
    "for i in range(len(v_norm)):\n",
    "    a_norm.append(np.inner(x, v_norm[i]))\n",
    "a_norm = np.array(a_norm, dtype='float')\n",
    "print('\\nNovo vetor de coefiecientes: {}\\n'.format(a_norm))\n",
    "\n",
    "#Checando a representação de x na nova base utilizada\n",
    "volta_x = 0\n",
    "for i in range(len(v_norm)):\n",
    "    volta_x += a_norm[i]*v_norm[i]\n",
    "print('Vetor x computado na nova base utilizada e com os novos coeficientes calculados: {}'.format(volta_x))"
   ]
  },
  {
   "cell_type": "markdown",
   "metadata": {
    "slideshow": {
     "slide_type": "subslide"
    }
   },
   "source": [
    "(d) Escreva um código que verifique que $\\|x\\|^2=\\|a'\\|^2$ (ou equivalentemente $x_1^2+x_2^2+x_3^2=a_1'^2+a_2'^2+a_3'^2$).\n",
    "\n",
    "Esse resultado é conhecido como *Equação de Parseval*, que estabelece que as representações $(x_1,x_2,x_3)$ e $(a'_1,a'_2,a'_3)$ têm o mesmo \"tamanho\" (e assim a transformação $x\\mapsto a'$ é uma *isometria*)."
   ]
  },
  {
   "cell_type": "code",
   "execution_count": null,
   "metadata": {
    "scrolled": true,
    "slideshow": {
     "slide_type": "fragment"
    }
   },
   "outputs": [],
   "source": [
    "# Exercício 1(d)\n",
    "norma_x_2 = np.inner(x, x)\n",
    "norma_a_linha_2 = np.inner(a_norm, a_norm)\n",
    "\n",
    "assert norma_x_2 < norma_a_linha_2+1e-12\n",
    "assert norma_x_2 > norma_a_linha_2-1e-12\n",
    "\n",
    "print(\"Norma de x ao quadrado: {}. Norma de a' ao quadrado: {}\".format(norma_x_2, norma_a_linha_2))"
   ]
  },
  {
   "cell_type": "markdown",
   "metadata": {
    "slideshow": {
     "slide_type": "slide"
    }
   },
   "source": [
    "#### Exercício 2: Considere o conjunto $S=\\{E_0,E_1,E_2,E_3\\}$ onde $E_k\\in\\mathbb{C}^4$ é o vetor definido por $$(E_k)_n=e^{i2\\pi kn/4},\\ n=0,1,2,3.$$ Veremos que esse conjunto é ortogonal, e portanto $S$ é uma base de $\\mathbb{C}^4$.\n",
    "\n",
    "(a) Escreva um código que compute os vetores acima, e use a mesma estratégia do Exercício 1(a) para verificar computacionalmente que esses vetores são de fato ortogonais em relação ao produto interno canônico $\\displaystyle(x,y)=\\sum_{i=0}^3x_i\\overline{y_i}$."
   ]
  },
  {
   "cell_type": "code",
   "execution_count": null,
   "metadata": {
    "slideshow": {
     "slide_type": "fragment"
    }
   },
   "outputs": [],
   "source": [
    "# Exercício 2(a)\n",
    "# Dica: compute os produtos internos (x,y) como np.inner(x,np.conjugate(y))\n",
    "\n",
    "#Computando os vetores E\n",
    "amostra = 4\n",
    "vetor_e = []\n",
    "for i in range(amostra):\n",
    "    vetor_e_aux = []\n",
    "    for z in range(amostra):\n",
    "        vetor_e_aux.append(np.exp(1j*2*np.pi*i*z/amostra))\n",
    "    vetor_e.append(vetor_e_aux)\n",
    "vetor_e = np.array(vetor_e)\n",
    "print('Analisando os valores do vetor E para entender sua coerência:\\n {}\\n'.format(vetor_e))\n",
    "\n",
    "#Computando os produtos internos de E para verificar ortogonalidade\n",
    "for i in range(len(vetor_e)-1):\n",
    "    for z in range(i+1, len(vetor_e)):\n",
    "        produto_interno = np.inner(vetor_e[i], np.conjugate(vetor_e[z]))\n",
    "        assert np.linalg.norm(produto_interno) < 1e-12\n",
    "        print('Produto interno entre vetores {} e {}: {}'.format(i+1, z+1, produto_interno))"
   ]
  },
  {
   "cell_type": "markdown",
   "metadata": {
    "slideshow": {
     "slide_type": "subslide"
    }
   },
   "source": [
    "(b) Use a mesma estratégia do Exercício 1(b) para escrever $v=(1,5,-2,3)$ como combinação linear dos elementos de $S$, ou seja, escreva um código para computar os coeficientes $a_k$ tais que $\\displaystyle v=\\sum_{k=0}^3a_kE_k$ e verificar automaticamente essa equação."
   ]
  },
  {
   "cell_type": "code",
   "execution_count": null,
   "metadata": {
    "slideshow": {
     "slide_type": "fragment"
    }
   },
   "outputs": [],
   "source": [
    "# Exercício 2(b)\n",
    "# Dica: use somente vetores numpy complexos, fazendo v = np.array(...,dtype=complex)\n",
    "\n",
    "#Computando coeficientes a\n",
    "v = np.array([1, 5, -2, 3], dtype='complex')\n",
    "a = []\n",
    "for i in range(len(vetor_e)):\n",
    "    a.append(np.inner(v, np.conjugate(vetor_e[i]))/np.inner(vetor_e[i], np.conjugate(vetor_e[i])))\n",
    "a = np.array(a, dtype='complex')\n",
    "print('Vetor de coefiecientes:\\n {}\\n'.format(a))\n",
    "\n",
    "#Checando a representação de x na base utilizada\n",
    "volta_v = 0\n",
    "for i in range(len(vetor_e)):\n",
    "    volta_v += a[i]*vetor_e[i]\n",
    "print('Vetor v computado na base utilizada e com os coeficientes calculados:\\n {}'.format(volta_v))"
   ]
  },
  {
   "cell_type": "markdown",
   "metadata": {
    "slideshow": {
     "slide_type": "subslide"
    }
   },
   "source": [
    "(c) Use a mesma estratégia do Exercício 1(c) para normalizar os vetores $E_k$ (obtendo vetores $E'_k$ e uma base ortonormal $S'$) e use-os para escrever $v=(1,5,-2,3)$ como combinação linear dos elementos de $S'$, ou seja, escreva um código para computar os coeficientes $a'_k$ tais que $\\displaystyle v=\\sum_{k=0}^3a'_kE'_k$ e verificar automaticamente essa equação."
   ]
  },
  {
   "cell_type": "code",
   "execution_count": null,
   "metadata": {
    "slideshow": {
     "slide_type": "fragment"
    }
   },
   "outputs": [],
   "source": [
    "# Exercício 2(c)\n",
    "\n",
    "#Computando vetores normalizados\n",
    "vetor_e_norm = []\n",
    "for i in range(len(vetor_e)):\n",
    "    vetor_e_norm.append(vetor_e[i]/np.linalg.norm(vetor_e[i]))\n",
    "vetor_e_norm = np.array(vetor_e_norm, dtype='complex')\n",
    "\n",
    "#Verificando normalidade dos vetore computados\n",
    "for i in range(len(vetor_e_norm)):\n",
    "    assert np.linalg.norm(vetor_e_norm[i]) < 1+1e-12\n",
    "    assert np.linalg.norm(vetor_e_norm[i]) > 1-1e-12\n",
    "    print('Norma do novo vetor {}: {}'.format(i+1, np.linalg.norm(vetor_e_norm[i])))\n",
    "    \n",
    "#Computando novos coeficientes a utilizando o fato de que a (v_norm[i], v_norm[i]) = 1\n",
    "a_norm = []\n",
    "for i in range(len(vetor_e_norm)):\n",
    "    a_norm.append(np.inner(v, np.conjugate(vetor_e_norm[i])))\n",
    "a_norm = np.array(a_norm, dtype='complex')\n",
    "print('\\nNovo vetor de coefiecientes:\\n {}\\n'.format(a_norm))\n",
    "\n",
    "#Checando a representação de x na nova base utilizada\n",
    "volta_v = 0\n",
    "for i in range(len(vetor_e_norm)):\n",
    "    volta_v += a_norm[i]*vetor_e_norm[i]\n",
    "print('Vetor v computado na nova base utilizada e com os novos coeficientes calculados:\\n {}'.format(volta_v))"
   ]
  },
  {
   "cell_type": "markdown",
   "metadata": {
    "slideshow": {
     "slide_type": "subslide"
    }
   },
   "source": [
    "(d) Use a mesma estratégia do Exercício 1(d) para verificar que $\\|v\\|^2=\\|a'\\|^2$."
   ]
  },
  {
   "cell_type": "code",
   "execution_count": null,
   "metadata": {
    "slideshow": {
     "slide_type": "fragment"
    }
   },
   "outputs": [],
   "source": [
    "# Exercício 2(d)\n",
    "norma_v_2 = np.inner(v, np.conjugate(v))\n",
    "norma_a_linha_2 = np.inner(a_norm, np.conjugate(a_norm))\n",
    "\n",
    "assert norma_v_2 < norma_a_linha_2+1e-12\n",
    "assert norma_v_2 > norma_a_linha_2-1e-12\n",
    "\n",
    "print(\"Norma de v ao quadrado: {}. Norma de a' ao quadrado: {}\".format(norma_v_2, norma_a_linha_2))"
   ]
  }
 ],
 "metadata": {
  "celltoolbar": "Slideshow",
  "kernelspec": {
   "display_name": "Python 3 (ipykernel)",
   "language": "python",
   "name": "python3"
  },
  "language_info": {
   "codemirror_mode": {
    "name": "ipython",
    "version": 3
   },
   "file_extension": ".py",
   "mimetype": "text/x-python",
   "name": "python",
   "nbconvert_exporter": "python",
   "pygments_lexer": "ipython3",
   "version": "3.7.13"
  }
 },
 "nbformat": 4,
 "nbformat_minor": 2
}
