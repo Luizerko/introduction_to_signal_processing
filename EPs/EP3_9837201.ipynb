{
 "cells": [
  {
   "cell_type": "markdown",
   "metadata": {},
   "source": [
    "## Atividade Prática 3: Transformada de Fourier para imagens\n",
    "\n",
    "### Nome: Luis Vitor Zerkowski\n",
    "### N° USP: 9837201"
   ]
  },
  {
   "cell_type": "markdown",
   "metadata": {},
   "source": [
    "A transformada de Fourier de uma imagem $A\\in\\mathcal{M}_{m,n}(\\mathbb{C})$ é a matriz $\\hat{A}=DFT(A)\\in\\mathcal{M}_{m,n}(\\mathbb{C})$ cujas componentes são\n",
    "\n",
    "$$\\hat{A}_{k,l} = \\left(A,\\mathcal{E}_{k,l}\\right) = \\sum_{r=0}^{m-1}\\sum_{s=0}^{n-1}A_{r,s}e^{-i2\\pi(kr/m+ls/n)},\\quad k=0,\\ldots,m-1,\\quad l=0,\\ldots,n-1,$$\n",
    "\n",
    "onde $\\hat{A}_{k,l}$ correspondem aos coeficientes não-normalizados da mudança de base da representação usual (base canônica) para a base das formas básicas de onda bidimensionais dadas pelas matrizes $\\mathcal{E}_{k,l}$ cujas componentes são\n",
    "\n",
    "$$\\left(\\mathcal{E}_{k,l}\\right)_{r,s} = e^{i2\\pi(kr/m+ls/n)},\\quad r=0,\\ldots,m-1,\\quad s=0,\\ldots,n-1.$$\n",
    "\n",
    "Observe que nessa definição, $k$ e $l$ são índices associados às *frequências de varredura por linhas e por colunas*, respectivamente, enquanto $r$ e $s$ são os índices de linhas e colunas dentro das matrizes $A$ e $\\mathcal{E}_{k,l}$. \n",
    "\n",
    "---"
   ]
  },
  {
   "cell_type": "markdown",
   "metadata": {},
   "source": [
    "**Exercício 1a:** Adapte o código da implementação \"ingênua\" da DFT unidimensional, fornecido abaixo, para produzir uma implementação análoga da DFT bidimensional, que calcule a fórmula dos $\\hat{A}_{k,l}$ diretamente pela definição acima."
   ]
  },
  {
   "cell_type": "code",
   "execution_count": null,
   "metadata": {},
   "outputs": [],
   "source": [
    "import math as m\n",
    "import numpy as np\n",
    "\n",
    "def DFTingenua(x):\n",
    "    N = len(x); n = np.array(range(N))\n",
    "    X = np.ndarray(N, dtype=complex)\n",
    "    for k in range(N):\n",
    "        X[k] = sum(x*np.exp(-1j*2*m.pi*k*n/N))\n",
    "    return X"
   ]
  },
  {
   "cell_type": "code",
   "execution_count": null,
   "metadata": {},
   "outputs": [],
   "source": [
    "# Resposta do exercício 1a\n",
    "def DFT2ingenua(A):\n",
    "    # Inclua aqui sua implementação, armazenando o resultado numa variável Ahat\n",
    "    M = A.shape[0]; N = A.shape[1]; s = np.array(range(N))\n",
    "    Ahat = np.ndarray((M, N), dtype=complex)\n",
    "    for k in range(M):\n",
    "        for l in range(N):\n",
    "            soma = 0\n",
    "            for r in range(M):\n",
    "                soma += sum(A[r]*np.exp(-1j*2*m.pi*(k*r/M + l*s/N)))\n",
    "            Ahat[k, l] = soma\n",
    "    return Ahat"
   ]
  },
  {
   "cell_type": "markdown",
   "metadata": {},
   "source": [
    "---\n",
    "\n",
    "### Testes automatizados\n",
    "\n",
    "É possível testar automaticamente o código da DFT comparando as saídas da função implementada com valores pré-calculados a partir da definição. Por exemplo, na DFT 1D vimos (exercício 2.4 da última lista) que os vetores $e_r=(0,\\ldots,0,\\overbrace{1}^{i=r},0,\\ldots,0)$ da base canônica possuem como DFT os vetores\n",
    "$$DFT(e_r) = \\overline{E_r} = (e^0,e^{-i2\\pi r/N},e^{-i2\\pi 2r/N},\\ldots,e^{-i2\\pi (N-1)r/N}).$$\n",
    "\n",
    "Esses casos de teste são utilizados na função abaixo. Para cada $e_r$ ela constrói a DFT teórica (variável DFTe_r) e a compara com o resultado da chamada da função DFTingenua(e_r). Observe que o código só imprime a frase no final porque todas as comparações (asserts) confirmam que \n",
    "$$\\text{DFTingenua(e_r)}\\approx\\text{DFTe_r}$$\n",
    "(o código usa $\\varepsilon=10^{-8}$ como tolerância nas comparações)."
   ]
  },
  {
   "cell_type": "code",
   "execution_count": null,
   "metadata": {},
   "outputs": [],
   "source": [
    "# teste automatizado:\n",
    "# para cada vetor e_r da base canônica, computa sua DFT\n",
    "# e compara com a expressão teórica DFT(e_r)=\\overline{E_r} (E_r conjugado)\n",
    "def testeDFTingenua(N):\n",
    "    for r in range(N):\n",
    "        e_r = np.zeros(N); e_r[r] = 1\n",
    "        DFTe_r = [ np.exp(-1j*2*m.pi*r*k/N) for k in range(N) ]\n",
    "        assert np.linalg.norm(DFTingenua(e_r)-DFTe_r) < 1e-8\n",
    "\n",
    "testeDFTingenua(4)\n",
    "print(\"A função DFTingenua passou no teste!\")"
   ]
  },
  {
   "cell_type": "markdown",
   "metadata": {},
   "source": [
    "---\n",
    "\n",
    "**Exercício 1b:** Adapte o código do teste automatizado da DFT unidimensional fornecido acima para testar sua implementação da DFT bidimensional. Seu teste deve percorrer todas as matrizes da base canônica de $\\mathcal{M}_{m,n}(\\mathbb{C})$ e comparar o resultado de sua função DFT2ingenua com a DFT prevista pela definição. Você deve construir essas DFTs previstas a partir das expressões teóricas: dada uma matriz da base canônica $e_{r,s}\\in\\mathcal{M}_{m,n}(\\mathbb{C})$ definida por $(e_{r,s})_{i,j} = 1$ se $(r,s)=(i,j)$ e $(e_{r,s})_{i,j} = 0$ caso contrário, sua DFT é a matriz $\\hat{e}_{r,s}\\in\\mathcal{M}_{m,n}(\\mathbb{C})$ cujas componentes são\n",
    "\n",
    "$$\\left(\\hat{e}_{r,s}\\right)_{k,l} = e^{-i2\\pi(kr/m+ls/n)},\\quad k=0,\\ldots,m-1,\\quad l=0,\\ldots,n-1.$$"
   ]
  },
  {
   "cell_type": "code",
   "execution_count": null,
   "metadata": {},
   "outputs": [],
   "source": [
    "# Resposta do exercício 1b\n",
    "def testeDFT2ingenua(M,N):\n",
    "    for r in range(M):\n",
    "        for s in range(N):\n",
    "            e_rs =  np.zeros((M, N)); e_rs[r, s] = 1\n",
    "            DFTe_rs = np.zeros((M, N), dtype=complex)\n",
    "            for k in range(M):\n",
    "                for l in range(N):\n",
    "                    DFTe_rs[k, l] = np.exp(-1j*2*m.pi*(k*r/M + l*s/N))\n",
    "            assert np.linalg.norm(DFT2ingenua(e_rs)-DFTe_rs) < 1e-8\n",
    "\n",
    "testeDFT2ingenua(4,8)\n",
    "print(\"A função DFT2ingenua passou no teste!\")"
   ]
  },
  {
   "cell_type": "markdown",
   "metadata": {},
   "source": [
    "---\n",
    "\n",
    "## DFT 2D como DFT nas linhas e nas colunas de A\n",
    "\n",
    "Uma relação muito importante entre a DFT unidimensional e a DFT bidimensional é a seguinte: se $\\hat{A} = DFT(A)$, onde $A,\\hat{A}\\in\\mathcal{M}_{m,n}(\\mathbb{C})$, então\n",
    "\n",
    "$$\\hat{A} = F_mAF_n^T,$$\n",
    "\n",
    "onde $F_m\\in\\mathcal{M}_{m,m}(\\mathbb{C})$ e $F_n\\in\\mathcal{M}_{n,n}(\\mathbb{C})$ são as matrizes que representam as DFTs unidimensionais nos espaços $\\mathbb{C}^m$ e $\\mathbb{C}^n$, respectivamente.\n",
    "\n",
    "Para ver que isso é verdade, basta calcular o produto de matrizes acima:\n",
    "\n",
    "$$\\begin{array}{ll}\n",
    "\\left(F_mAF_n^T\\right)_{k,l} & = ((F_mA)F_n^T)_{k,l}\\\\\n",
    "& = \\mbox{\"linha k de $F_mA$\" $\\quad\\times\\quad$ \"coluna l de $F_n^T$\"}\\\\\n",
    "& = \\mbox{\"linha k de $F_mA$\" $\\quad\\times\\quad$ \"linha l de $F_n$\"}\\\\\n",
    "& = \\displaystyle\\sum_{s=0}^{n-1}(FmA)_{k,s}e^{-i2\\pi ls/n}\\\\\n",
    "& = \\displaystyle\\sum_{s=0}^{n-1}\\left(\\sum_{r=0}^{m-1}A_{r,s}e^{-i2\\pi kr/m}\\right)e^{-i2\\pi ls/n}\\\\\n",
    "& = \\displaystyle\\sum_{r=0}^{m-1}\\sum_{s=0}^{n-1}A_{r,s}e^{-i2\\pi(kr/m+ls/n)}\\\\\n",
    "& = \\hat{A}_{k,l}\n",
    "\\end{array}$$\n",
    "\n",
    "A interpretação algorítmica da identidade $DFT(A) = F_mAF_n^T$ é a seguinte:\n",
    "\n",
    "- A parte $F_mA$ pode ser vista como uma aplicação da DFT nas **colunas** de A:\n",
    "\n",
    "$$F_mA = \\left[\\begin{array}{l|l|l|l}\n",
    "\\rule{0mm}{0mm}\\\\\n",
    "F_mA^0&F_mA^1&\\ldots&F_mA^{n-1}\\\\\n",
    "\\rule{0mm}{0mm}\n",
    "\\end{array}\\right]\n",
    " = \\left[\\begin{array}{l|l|l|l}\n",
    "\\rule{0mm}{0mm}\\\\\n",
    "DFT(A^0)&DFT(A^1)&\\ldots&DFT(A^{n-1})\\\\\n",
    "\\rule{0mm}{0mm}\n",
    "\\end{array}\\right]$$\n",
    "\n",
    "- O produto subsequente por $F_n^T$ pode ser visto como uma aplicação da DFT nas **linhas** da matriz resultante $X=F_mA$, pois\n",
    "\n",
    "$$XF_n^T = \\left[\\begin{array}{c}\n",
    "\\rule{2cm}{0mm}X_0F_n^T\\rule{2cm}{0mm}\\\\\\hline\n",
    "X_1F_n^T\\\\\\hline\n",
    "\\vdots\\\\\\hline\n",
    "X_{m-1}F_n^T\n",
    "\\end{array}\\right]\n",
    " = \\left[\\begin{array}{c}\n",
    "\\rule{2cm}{0mm}DFT(X_0)^T\\rule{2cm}{0mm}\\\\\\hline\n",
    "DFT(X_1)^T\\\\\\hline\n",
    "\\vdots\\\\\\hline\n",
    "DFT(X_{m-1})^T\n",
    "\\end{array}\\right]$$\n",
    "\n",
    "- Finalmente, a associatividade do produto de matrizes $$F_mAF_n^T=(F_mA)F_n^T=F_m(AF_n^T)$$ permite ver que o mesmo resultado poderia ser atingido calculando-se primeiro a DFT das linhas de $A$ e depois a DFT das colunas resultantes."
   ]
  },
  {
   "cell_type": "markdown",
   "metadata": {},
   "source": [
    "---\n",
    "\n",
    "**Exercício 2a:** Use a implementação da FFT unidimensional abaixo para construir uma implementação da FFT bidimensional usando a identidade $DFT(A) = F_mAF_n^T$."
   ]
  },
  {
   "cell_type": "code",
   "execution_count": null,
   "metadata": {},
   "outputs": [],
   "source": [
    "def FFT(x):\n",
    "    N = len(x);\n",
    "    if N<=1: return x\n",
    "    X = np.ndarray(N, dtype=complex)\n",
    "    Xpar = FFT(x[0:N:2])\n",
    "    Ximpar = FFT(x[1:N:2])\n",
    "    for k in range(N):\n",
    "        X[k] = Xpar[k%(N//2)]+np.exp(-1j*2*m.pi*k/N)*Ximpar[k%(N//2)]\n",
    "    return X"
   ]
  },
  {
   "cell_type": "code",
   "execution_count": null,
   "metadata": {},
   "outputs": [],
   "source": [
    "# Resposta do exercício 2a\n",
    "# Dica: a linha i da matriz A pode ser acessada como A[i,:] e a coluna j como A[:,j]\n",
    "def FFT2(A):\n",
    "    Ahat = np.apply_along_axis(FFT, 0, A)\n",
    "    Ahat = np.apply_along_axis(FFT, 1, Ahat)\n",
    "    \n",
    "    return Ahat"
   ]
  },
  {
   "cell_type": "markdown",
   "metadata": {},
   "source": [
    "---\n",
    "\n",
    "**Exercício 2b:** Escreva uma função para testar sua implementação da FFT bidimensional, comparando os resultados dessa função com a sua implementação DFT2ingenua."
   ]
  },
  {
   "cell_type": "code",
   "execution_count": null,
   "metadata": {},
   "outputs": [],
   "source": [
    "# Resposta do exercício 2b\n",
    "def testeFFT2(M,N):\n",
    "    for r in range(M):\n",
    "        for s in range(N):\n",
    "            e_rs =  np.zeros((M, N)); e_rs[r, s] = 1\n",
    "            #e_rs = np.random.rand(M, N)\n",
    "            assert np.linalg.norm(DFT2ingenua(e_rs)-FFT2(e_rs)) < 1e-8\n",
    "\n",
    "testeFFT2(4,8)\n",
    "print(\"A função FFT2 passou no teste!\")"
   ]
  },
  {
   "cell_type": "markdown",
   "metadata": {},
   "source": [
    "### Chegando aqui você já pode entregar seu trabalho no e-disciplinas!\n",
    "#### A leitura/execução da parte abaixo é opcional\n",
    "\n",
    "---\n",
    "\n",
    "### Comparação de tempos entre DFT 2D e FFT 2D\n",
    "\n",
    "O código abaixo traz pronta uma comparação de tempos entre as implementações das DFT 2D e FFT 2D que você fez, aplicando-as a matrizes aleatórias de tamanho $N\\times N$ para $N=1,2,4,8,\\ldots,1024$. Nessa comparação você pode observar a diferença entre a complexidade da implementação ingênua da DTF 2D ($\\mathcal{O}(M^2N^2)$) e a da FFT 2D ($\\mathcal{O}(MN\\log (MN))$)."
   ]
  },
  {
   "cell_type": "code",
   "execution_count": null,
   "metadata": {},
   "outputs": [],
   "source": [
    "from time import time\n",
    "import matplotlib.pyplot as plt\n",
    "N = np.linspace(1,80,5,dtype='int') # tamanhos de vetor\n",
    "TDFT = np.zeros(len(N)) # tempos de execução\n",
    "TFFT = np.zeros(len(N)) # tempos de execução\n",
    "R = 5 # número de repetições para cada N\n",
    "print(\"Rodando experimento...\")\n",
    "for r in range(R):\n",
    "    for i in range(len(N)):\n",
    "        x = np.random.rand(N[i],N[i])\n",
    "        t = time(); DFT2ingenua(x); TDFT[i] += (time()-t)/R\n",
    "        t = time(); FFT2(x); TFFT[i] += (time()-t)/R\n",
    "    print(\"{}% completado...\".format(100*(r+1)/R),end=\"\\r\")\n",
    "print(\"Pronto!             \")"
   ]
  },
  {
   "cell_type": "code",
   "execution_count": null,
   "metadata": {},
   "outputs": [],
   "source": [
    "plt.figure(figsize=(15,5))\n",
    "plt.plot(np.square(N),TDFT,label=\"DFT\")\n",
    "plt.plot(np.square(N),TFFT,label=\"FFT\")\n",
    "plt.title(\"Comparação dos tempos de execução da DFT e FFT\")\n",
    "plt.xlabel(r\"Tamanho da matriz de entrada [$N^2$]\")\n",
    "plt.ylabel(\"tempo de execução [s]\")\n",
    "plt.legend()\n",
    "plt.show()"
   ]
  }
 ],
 "metadata": {
  "kernelspec": {
   "display_name": "Python 3 (ipykernel)",
   "language": "python",
   "name": "python3"
  },
  "language_info": {
   "codemirror_mode": {
    "name": "ipython",
    "version": 3
   },
   "file_extension": ".py",
   "mimetype": "text/x-python",
   "name": "python",
   "nbconvert_exporter": "python",
   "pygments_lexer": "ipython3",
   "version": "3.7.13"
  }
 },
 "nbformat": 4,
 "nbformat_minor": 2
}
